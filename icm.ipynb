{
 "cells": [
  {
   "cell_type": "code",
   "execution_count": 1,
   "metadata": {
    "colab": {
     "autoexec": {
      "startup": false,
      "wait_interval": 0
     }
    },
    "colab_type": "code",
    "collapsed": false,
    "id": "XE82wN8aIR52"
   },
   "outputs": [],
   "source": [
    "import numpy as np\n",
    "from itertools import permutations\n",
    "np.set_printoptions(precision=3, suppress=True)"
   ]
  },
  {
   "cell_type": "code",
   "execution_count": 2,
   "metadata": {
    "colab": {
     "autoexec": {
      "startup": false,
      "wait_interval": 0
     }
    },
    "colab_type": "code",
    "collapsed": false,
    "id": "d9Ht6Pp4JwKe"
   },
   "outputs": [],
   "source": [
    "def get_results_old(stacks):\n",
    "    num_players = len(stacks)\n",
    "    totalChips = sum(stacks)\n",
    "    totalFinish = np.zeros((num_players, 3))\n",
    "  \n",
    "    # get first place results\n",
    "    for i in range(num_players):\n",
    "        totalFinish[i][0] = stacks[i]/totalChips\n",
    "\n",
    "    # get second place results\n",
    "    for i in range(num_players): # i is first\n",
    "        if stacks[i] > 0:\n",
    "            tempTotal = totalChips - stacks[i]\n",
    "            for j in range(num_players): # j is second\n",
    "                if j != i:\n",
    "                    totalFinish[j][1] += stacks[j]/tempTotal * totalFinish[i][0]\n",
    "                  \n",
    "    # get third place results\n",
    "    for i in range(num_players): # i is first\n",
    "        if stacks[i] > 0:\n",
    "            for j in range(num_players): # j is second\n",
    "                if j != i and stacks[j] > 0:\n",
    "                    tempTotal = totalChips - stacks[i] - stacks[j]\n",
    "                    for k in range(num_players): # k is third\n",
    "                        if k != i and k != j:\n",
    "                            totalFinish[k][2] += stacks[k]/tempTotal * totalFinish[i][0] * stacks[j]/(tempTotal+stacks[j])\n",
    "                            # Probability of k getting third times probability of i \n",
    "                            # getting first times probability of j getting 2nd given \n",
    "                            # i got first.\n",
    "    return totalFinish"
   ]
  },
  {
   "cell_type": "code",
   "execution_count": 4,
   "metadata": {
    "collapsed": false
   },
   "outputs": [
    {
     "data": {
      "text/plain": [
       "array([[ 0.429,  0.314,  0.186],\n",
       "       [ 0.286,  0.31 ,  0.257],\n",
       "       [ 0.143,  0.188,  0.279],\n",
       "       [ 0.143,  0.188,  0.279]])"
      ]
     },
     "execution_count": 4,
     "metadata": {},
     "output_type": "execute_result"
    }
   ],
   "source": [
    "stacks = [3, 2, 1, 1]\n",
    "get_results_old(stacks)"
   ]
  },
  {
   "cell_type": "markdown",
   "metadata": {
    "colab_type": "text",
    "id": "DVagHZ65RgsV"
   },
   "source": [
    "http://www.cse.unsw.edu.au/~cs9417ml/Bayes/Pages/Joint_Probability.html\n",
    "\n",
    "I think the below terminology might b slightly off, but it does give the right answer"
   ]
  },
  {
   "cell_type": "markdown",
   "metadata": {
    "colab": {
     "autoexec": {
      "startup": false,
      "wait_interval": 0
     }
    },
    "colab_type": "code",
    "id": "AVsgdFrn5JfG"
   },
   "source": [
    "For players 1,2,...,k-1,k in player_subset, prev is the (joint) probability\n",
    "that player 1 finishes first, player 2 finishes second, ..., and player\n",
    "k-1 finishes in place k-1. stacks[player]/remaining_chips is the \n",
    "conditional probability that player k finishes in place k given prev.\n",
    "Thus the new joint probability is the product of prev and the conditional."
   ]
  },
  {
   "cell_type": "code",
   "execution_count": 5,
   "metadata": {
    "colab": {
     "autoexec": {
      "startup": false,
      "wait_interval": 0
     }
    },
    "colab_type": "code",
    "collapsed": false,
    "id": "OZR3QbskPqEQ"
   },
   "outputs": [],
   "source": [
    "def g(stacks, num_places=None):\n",
    "    '''\n",
    "    marginal[i, j] is the probability that player i will finish in place j\n",
    "    joint[(x1, x2, ..., xk)] is the probability that player x1 will finish in\n",
    "    first place, x2 will finish in second place, ..., xk will finish in kth place\n",
    "    '''\n",
    "    if num_places is None: num_places = len(stacks) \n",
    "    num_players = len(stacks)\n",
    "    total_chips = stacks.sum()\n",
    "    joint = {}\n",
    "    marginal = np.zeros((num_players, num_places))\n",
    "\n",
    "    perms = (player_subset for perm_size in range(1, num_places+1)\n",
    "             for player_subset in permutations(range(num_players), perm_size))\n",
    "    for player_subset in perms:\n",
    "        player, others = player_subset[-1], player_subset[:-1]\n",
    "        remaining_chips = total_chips - np.take(stacks, others).sum()\n",
    "        joint[player_subset] = joint.get(others, 1) * stacks[player]/remaining_chips\n",
    "        marginal[player, len(player_subset)-1] += joint[player_subset]\n",
    "    return joint, marginal"
   ]
  },
  {
   "cell_type": "code",
   "execution_count": 6,
   "metadata": {
    "colab": {
     "autoexec": {
      "startup": false,
      "wait_interval": 0
     },
     "output_extras": [
      {
       "item_id": 1
      }
     ]
    },
    "colab_type": "code",
    "collapsed": false,
    "executionInfo": {
     "elapsed": 39,
     "status": "ok",
     "timestamp": 1496676912570,
     "user": {
      "displayName": "Sean Harnett",
      "photoUrl": "//lh3.googleusercontent.com/-5JJoj6OcA_4/AAAAAAAAAAI/AAAAAAAAAAg/6o2l2bzGLnY/s50-c-k-no/photo.jpg",
      "userId": "103449776264960393261"
     },
     "user_tz": -60
    },
    "id": "lyiPfPd67mAF",
    "outputId": "a0bb7d01-9325-461c-a148-09ab67bf8ae1"
   },
   "outputs": [
    {
     "name": "stdout",
     "output_type": "stream",
     "text": [
      "[[ 0.5    0.333  0.167]\n",
      " [ 0.25   0.333  0.417]\n",
      " [ 0.25   0.333  0.417]]\n",
      "[[ 0.5    0.333  0.167]\n",
      " [ 0.25   0.333  0.417]\n",
      " [ 0.25   0.333  0.417]]\n"
     ]
    },
    {
     "data": {
      "text/plain": [
       "{(0,): 0.500,\n",
       " (0, 1): 0.250,\n",
       " (0, 1, 2): 0.250,\n",
       " (0, 2): 0.250,\n",
       " (0, 2, 1): 0.250,\n",
       " (1,): 0.250,\n",
       " (1, 0): 0.167,\n",
       " (1, 0, 2): 0.167,\n",
       " (1, 2): 0.083,\n",
       " (1, 2, 0): 0.083,\n",
       " (2,): 0.250,\n",
       " (2, 0): 0.167,\n",
       " (2, 0, 1): 0.167,\n",
       " (2, 1): 0.083,\n",
       " (2, 1, 0): 0.083}"
      ]
     },
     "execution_count": 6,
     "metadata": {},
     "output_type": "execute_result"
    }
   ],
   "source": [
    "stacks = np.array([2, 1, 1])\n",
    "joint, marginal = g(stacks)\n",
    "print(marginal)\n",
    "print(get_results_old(stacks))\n",
    "%precision 3\n",
    "joint"
   ]
  },
  {
   "cell_type": "code",
   "execution_count": 7,
   "metadata": {
    "colab": {
     "autoexec": {
      "startup": false,
      "wait_interval": 0
     },
     "output_extras": [
      {
       "item_id": 1
      }
     ]
    },
    "colab_type": "code",
    "collapsed": false,
    "executionInfo": {
     "elapsed": 33,
     "status": "ok",
     "timestamp": 1496667385952,
     "user": {
      "displayName": "Sean Harnett",
      "photoUrl": "//lh3.googleusercontent.com/-5JJoj6OcA_4/AAAAAAAAAAI/AAAAAAAAAAg/6o2l2bzGLnY/s50-c-k-no/photo.jpg",
      "userId": "103449776264960393261"
     },
     "user_tz": -60
    },
    "id": "yl7B0qH249G_",
    "outputId": "6e740963-154d-4747-f4bb-0543e2fa9817"
   },
   "outputs": [
    {
     "name": "stdout",
     "output_type": "stream",
     "text": [
      "[[ 0.667  0.333  0.     0.     0.   ]\n",
      " [ 0.333  0.667  0.     0.     0.   ]\n",
      " [ 0.     0.     1.     0.     0.   ]\n",
      " [ 0.     0.     0.     0.666  0.333]\n",
      " [ 0.     0.     0.     0.333  0.667]]\n",
      "[[ 0.667  0.333  0.   ]\n",
      " [ 0.333  0.667  0.   ]\n",
      " [ 0.     0.     1.   ]\n",
      " [ 0.     0.     0.   ]\n",
      " [ 0.     0.     0.   ]]\n"
     ]
    }
   ],
   "source": [
    "stacks = np.array([2e8, 1e8, 1e4, 2, 1])\n",
    "joint, marginal = g(stacks)\n",
    "print(marginal)\n",
    "print(get_results_old(stacks))"
   ]
  },
  {
   "cell_type": "code",
   "execution_count": 11,
   "metadata": {
    "collapsed": false
   },
   "outputs": [
    {
     "name": "stdout",
     "output_type": "stream",
     "text": [
      "(0, 1) 0.6666\n",
      "(0,) 0.6666\n",
      "(0, 1, 2, 4) 0.2221\n",
      "(0, 1, 2) 0.6664\n",
      "(1, 0, 2, 3) 0.2221\n",
      "(1,) 0.3333\n",
      "(0, 1, 2, 3) 0.4443\n",
      "(1, 0, 2, 3, 4) 0.2221\n",
      "(1, 0, 2, 4, 3) 0.1111\n",
      "(1, 0) 0.3333\n",
      "(1, 0, 2) 0.3332\n",
      "(0, 1, 2, 3, 4) 0.4443\n",
      "(0, 1, 2, 4, 3) 0.2221\n",
      "(0, 1, 3, 2) 0.0001\n",
      "(0, 1, 3) 0.0001\n",
      "(0, 1, 3, 2, 4) 0.0001\n",
      "(1, 0, 2, 4) 0.1111\n"
     ]
    }
   ],
   "source": [
    "for subset, p in joint.items():\n",
    "    if p > 1e-4:\n",
    "        print(subset, '%.4f'%p)"
   ]
  }
 ],
 "metadata": {
  "colab": {
   "default_view": {},
   "last_runtime": {
    "build_target": "",
    "kind": "local"
   },
   "name": "icm.ipynb",
   "provenance": [],
   "version": "0.3.2",
   "views": {}
  },
  "kernelspec": {
   "display_name": "Python 3",
   "language": "python",
   "name": "python3"
  },
  "language_info": {
   "codemirror_mode": {
    "name": "ipython",
    "version": 3
   },
   "file_extension": ".py",
   "mimetype": "text/x-python",
   "name": "python",
   "nbconvert_exporter": "python",
   "pygments_lexer": "ipython3",
   "version": "3.4.5"
  }
 },
 "nbformat": 4,
 "nbformat_minor": 0
}
